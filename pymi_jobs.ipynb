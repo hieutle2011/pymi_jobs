{
 "cells": [
  {
   "cell_type": "code",
   "execution_count": 45,
   "metadata": {
    "collapsed": true
   },
   "outputs": [],
   "source": [
    "import requests\n",
    "import json\n",
    "import csv\n",
    "import pandas as pd"
   ]
  },
  {
   "cell_type": "code",
   "execution_count": 59,
   "metadata": {
    "collapsed": true
   },
   "outputs": [],
   "source": [
    "def jobs(url):\n",
    "    # Return list of Jobs\n",
    "    page = requests.get(url)\n",
    "    info = json.loads(page.text)\n",
    "    jobs = info['Jobs']\n",
    "    return jobs"
   ]
  },
  {
   "cell_type": "code",
   "execution_count": 69,
   "metadata": {
    "collapsed": true
   },
   "outputs": [],
   "source": [
    "json_url = 'http://jobs.pymi.vn/jobs?page=1&api=True'"
   ]
  },
  {
   "cell_type": "code",
   "execution_count": 60,
   "metadata": {},
   "outputs": [
    {
     "data": {
      "text/plain": [
       "{'Job': {'Address': '',\n",
       "  'Company': 'Appable Vietnam',\n",
       "  'Contact': '',\n",
       "  'Id': '1459',\n",
       "  'Information': '',\n",
       "  'Informations': [''],\n",
       "  'Logo': '',\n",
       "  'Name': 'Back-end Developer (Python, Database)',\n",
       "  'Original': False,\n",
       "  'Province': 'Ho Chi Minh',\n",
       "  'Size': '',\n",
       "  'Slug': 'Back-end-Developer-Python-Database',\n",
       "  'Specialize': '',\n",
       "  'Specializes': [''],\n",
       "  'Url': 'https://itviec.com/it-jobs/back-end-developer-python-database-appable-vietnam-1819',\n",
       "  'Vip': False,\n",
       "  'Wage': 'Thương lượng',\n",
       "  'Work': '',\n",
       "  'Works': [''],\n",
       "  'create_date': '2017-12-10T00:00:00Z',\n",
       "  'expiry_date': '',\n",
       "  'post_date': '2017-12-10'},\n",
       " 'New': False,\n",
       " 'URI': 'Back-end-Developer-Python-Database'}"
      ]
     },
     "execution_count": 60,
     "metadata": {},
     "output_type": "execute_result"
    }
   ],
   "source": [
    "jobs(json_url)[1]"
   ]
  },
  {
   "cell_type": "code",
   "execution_count": 47,
   "metadata": {},
   "outputs": [
    {
     "data": {
      "text/plain": [
       "200"
      ]
     },
     "execution_count": 47,
     "metadata": {},
     "output_type": "execute_result"
    }
   ],
   "source": [
    "page = requests.get(json_url)\n",
    "page.status_code"
   ]
  },
  {
   "cell_type": "code",
   "execution_count": 48,
   "metadata": {},
   "outputs": [
    {
     "name": "stdout",
     "output_type": "stream",
     "text": [
      "5 <class 'dict'>\n"
     ]
    }
   ],
   "source": [
    "info = json.loads(page.text)\n",
    "print(len(info), type(info))"
   ]
  },
  {
   "cell_type": "code",
   "execution_count": 49,
   "metadata": {
    "scrolled": true
   },
   "outputs": [
    {
     "name": "stdout",
     "output_type": "stream",
     "text": [
      "TotalJob\n",
      "NoPages\n",
      "Pages\n",
      "Jobs\n",
      "CurrentPage\n"
     ]
    }
   ],
   "source": [
    "for i in info:\n",
    "    print(i)"
   ]
  },
  {
   "cell_type": "code",
   "execution_count": 50,
   "metadata": {},
   "outputs": [
    {
     "name": "stdout",
     "output_type": "stream",
     "text": [
      "[1, 2, 3, 4, 5, 6, 7, 8, 9, 10, 11, 12, 13, 14, 15, 16, 17, 18, 19, 20, 21, 22, 23, 24, 25, 26, 27, 28, 29, 30, 31, 32, 33, 34, 35, 36, 37, 38, 39, 40, 41, 42, 43, 44, 45, 46, 47, 48, 49, 50, 51, 52, 53, 54, 55, 56, 57, 58, 59, 60, 61, 62, 63, 64, 65, 66, 67, 68, 69, 70, 71, 72, 73, 74, 75, 76, 77, 78, 79, 80, 81, 82, 83, 84, 85, 86, 87, 88, 89, 90, 91, 92]\n"
     ]
    }
   ],
   "source": [
    "pages = info['Pages']\n",
    "print(pages)"
   ]
  },
  {
   "cell_type": "code",
   "execution_count": 51,
   "metadata": {
    "scrolled": true
   },
   "outputs": [
    {
     "data": {
      "text/plain": [
       "{'Address': '',\n",
       " 'Company': 'Appable Vietnam',\n",
       " 'Contact': '',\n",
       " 'Id': '1459',\n",
       " 'Information': '',\n",
       " 'Informations': [''],\n",
       " 'Logo': '',\n",
       " 'Name': 'Back-end Developer (Python, Database)',\n",
       " 'Original': False,\n",
       " 'Province': 'Ho Chi Minh',\n",
       " 'Size': '',\n",
       " 'Slug': 'Back-end-Developer-Python-Database',\n",
       " 'Specialize': '',\n",
       " 'Specializes': [''],\n",
       " 'Url': 'https://itviec.com/it-jobs/back-end-developer-python-database-appable-vietnam-1819',\n",
       " 'Vip': False,\n",
       " 'Wage': 'Thương lượng',\n",
       " 'Work': '',\n",
       " 'Works': [''],\n",
       " 'create_date': '2017-12-10T00:00:00Z',\n",
       " 'expiry_date': '',\n",
       " 'post_date': '2017-12-10'}"
      ]
     },
     "execution_count": 51,
     "metadata": {},
     "output_type": "execute_result"
    }
   ],
   "source": [
    "jobs = info['Jobs']\n",
    "jobs[1]['Job']"
   ]
  },
  {
   "cell_type": "code",
   "execution_count": 52,
   "metadata": {},
   "outputs": [],
   "source": [
    "with open('pymi_jobs.csv', 'w') as file:\n",
    "    f = csv.writer(file)\n",
    "    f.writerow(['Company', 'Title', 'Salary', 'ID', 'URL'])\n",
    "    for job in jobs:\n",
    "        company = job['Job']['Company']\n",
    "        title = job['Job']['Name']\n",
    "        salary = job['Job']['Wage']\n",
    "        id_ = job['Job']['Id']\n",
    "        url = job['Job']['Url']\n",
    "        f.writerow([company, title, salary, id_, url])"
   ]
  },
  {
   "cell_type": "code",
   "execution_count": 68,
   "metadata": {},
   "outputs": [
    {
     "data": {
      "text/html": [
       "<div>\n",
       "<style>\n",
       "    .dataframe thead tr:only-child th {\n",
       "        text-align: right;\n",
       "    }\n",
       "\n",
       "    .dataframe thead th {\n",
       "        text-align: left;\n",
       "    }\n",
       "\n",
       "    .dataframe tbody tr th {\n",
       "        vertical-align: top;\n",
       "    }\n",
       "</style>\n",
       "<table border=\"1\" class=\"dataframe\">\n",
       "  <thead>\n",
       "    <tr style=\"text-align: right;\">\n",
       "      <th></th>\n",
       "      <th>Company</th>\n",
       "      <th>Title</th>\n",
       "      <th>Salary</th>\n",
       "      <th>ID</th>\n",
       "      <th>URL</th>\n",
       "    </tr>\n",
       "  </thead>\n",
       "  <tbody>\n",
       "    <tr>\n",
       "      <th>0</th>\n",
       "      <td>WEBSOSANH</td>\n",
       "      <td>Machine Learning Engineer (Java, Python)</td>\n",
       "      <td>Up to 30m vnd</td>\n",
       "      <td>1493</td>\n",
       "      <td>https://itviec.com/it-jobs/machine-learning-en...</td>\n",
       "    </tr>\n",
       "    <tr>\n",
       "      <th>1</th>\n",
       "      <td>Septeni Technology</td>\n",
       "      <td>DevOps Engineer wanted - up to 1000$</td>\n",
       "      <td>800 - 1,000 USD</td>\n",
       "      <td>1492</td>\n",
       "      <td>https://itviec.com/it-jobs/devops-engineer-wan...</td>\n",
       "    </tr>\n",
       "    <tr>\n",
       "      <th>2</th>\n",
       "      <td>Bee Tech</td>\n",
       "      <td>3 Back-end Dev (Python, Golang, NodeJS)</td>\n",
       "      <td>Up to $1200</td>\n",
       "      <td>1490</td>\n",
       "      <td>https://itviec.com/it-jobs/3-back-end-dev-pyth...</td>\n",
       "    </tr>\n",
       "    <tr>\n",
       "      <th>3</th>\n",
       "      <td>Trusting Social</td>\n",
       "      <td>Data Scientists (Python, SQL)</td>\n",
       "      <td>$3.000 - $10.000</td>\n",
       "      <td>1488</td>\n",
       "      <td>https://itviec.com/it-jobs/data-scientists-pyt...</td>\n",
       "    </tr>\n",
       "    <tr>\n",
       "      <th>4</th>\n",
       "      <td>Trusting Social</td>\n",
       "      <td>10 Back-end Engineers (Java/Python/Ruby)</td>\n",
       "      <td>$2000 - $4000</td>\n",
       "      <td>1489</td>\n",
       "      <td>https://itviec.com/it-jobs/10-back-end-enginee...</td>\n",
       "    </tr>\n",
       "  </tbody>\n",
       "</table>\n",
       "</div>"
      ],
      "text/plain": [
       "              Company                                     Title  \\\n",
       "0           WEBSOSANH  Machine Learning Engineer (Java, Python)   \n",
       "1  Septeni Technology      DevOps Engineer wanted - up to 1000$   \n",
       "2            Bee Tech   3 Back-end Dev (Python, Golang, NodeJS)   \n",
       "3     Trusting Social             Data Scientists (Python, SQL)   \n",
       "4     Trusting Social  10 Back-end Engineers (Java/Python/Ruby)   \n",
       "\n",
       "             Salary    ID                                                URL  \n",
       "0     Up to 30m vnd  1493  https://itviec.com/it-jobs/machine-learning-en...  \n",
       "1   800 - 1,000 USD  1492  https://itviec.com/it-jobs/devops-engineer-wan...  \n",
       "2       Up to $1200  1490  https://itviec.com/it-jobs/3-back-end-dev-pyth...  \n",
       "3  $3.000 - $10.000  1488  https://itviec.com/it-jobs/data-scientists-pyt...  \n",
       "4     $2000 - $4000  1489  https://itviec.com/it-jobs/10-back-end-enginee...  "
      ]
     },
     "execution_count": 68,
     "metadata": {},
     "output_type": "execute_result"
    }
   ],
   "source": [
    "df = pd.read_csv('pymi_jobs.csv')\n",
    "df.head()"
   ]
  },
  {
   "cell_type": "code",
   "execution_count": 70,
   "metadata": {
    "scrolled": true
   },
   "outputs": [
    {
     "name": "stdout",
     "output_type": "stream",
     "text": [
      "http://jobs.pymi.vn/jobs?page=1&api=True\n",
      "http://jobs.pymi.vn/jobs?page=2&api=True\n",
      "http://jobs.pymi.vn/jobs?page=3&api=True\n"
     ]
    }
   ],
   "source": [
    "for i in range(1,4):\n",
    "    print('http://jobs.pymi.vn/jobs?page=' + str(i) + '&api=True')"
   ]
  },
  {
   "cell_type": "code",
   "execution_count": 61,
   "metadata": {
    "collapsed": true
   },
   "outputs": [],
   "source": [
    "with open('pymi_jobs.csv', 'w') as file:\n",
    "    f = csv.writer(file)\n",
    "    f.writerow(['Company', 'Title', 'Salary', 'ID', 'URL'])\n",
    "    for i in pages:\n",
    "        url = 'http://jobs.pymi.vn/jobs?page=' + str(i) + '&api=True'\n",
    "        for job in jobs(url):\n",
    "            company = job['Job']['Company']\n",
    "            title = job['Job']['Name']\n",
    "            salary = job['Job']['Wage']\n",
    "            id_ = job['Job']['Id']\n",
    "            url = job['Job']['Url']\n",
    "            f.writerow([company, title, salary, id_, url])"
   ]
  },
  {
   "cell_type": "code",
   "execution_count": 67,
   "metadata": {},
   "outputs": [
    {
     "data": {
      "text/html": [
       "<div>\n",
       "<style>\n",
       "    .dataframe thead tr:only-child th {\n",
       "        text-align: right;\n",
       "    }\n",
       "\n",
       "    .dataframe thead th {\n",
       "        text-align: left;\n",
       "    }\n",
       "\n",
       "    .dataframe tbody tr th {\n",
       "        vertical-align: top;\n",
       "    }\n",
       "</style>\n",
       "<table border=\"1\" class=\"dataframe\">\n",
       "  <thead>\n",
       "    <tr style=\"text-align: right;\">\n",
       "      <th></th>\n",
       "      <th>Company</th>\n",
       "      <th>Title</th>\n",
       "      <th>Salary</th>\n",
       "      <th>ID</th>\n",
       "      <th>URL</th>\n",
       "    </tr>\n",
       "  </thead>\n",
       "  <tbody>\n",
       "    <tr>\n",
       "      <th>0</th>\n",
       "      <td>WEBSOSANH</td>\n",
       "      <td>Machine Learning Engineer (Java, Python)</td>\n",
       "      <td>Up to 30m vnd</td>\n",
       "      <td>1493</td>\n",
       "      <td>https://itviec.com/it-jobs/machine-learning-en...</td>\n",
       "    </tr>\n",
       "    <tr>\n",
       "      <th>1</th>\n",
       "      <td>Septeni Technology</td>\n",
       "      <td>DevOps Engineer wanted - up to 1000$</td>\n",
       "      <td>800 - 1,000 USD</td>\n",
       "      <td>1492</td>\n",
       "      <td>https://itviec.com/it-jobs/devops-engineer-wan...</td>\n",
       "    </tr>\n",
       "    <tr>\n",
       "      <th>2</th>\n",
       "      <td>Bee Tech</td>\n",
       "      <td>3 Back-end Dev (Python, Golang, NodeJS)</td>\n",
       "      <td>Up to $1200</td>\n",
       "      <td>1490</td>\n",
       "      <td>https://itviec.com/it-jobs/3-back-end-dev-pyth...</td>\n",
       "    </tr>\n",
       "    <tr>\n",
       "      <th>3</th>\n",
       "      <td>Trusting Social</td>\n",
       "      <td>Data Scientists (Python, SQL)</td>\n",
       "      <td>$3.000 - $10.000</td>\n",
       "      <td>1488</td>\n",
       "      <td>https://itviec.com/it-jobs/data-scientists-pyt...</td>\n",
       "    </tr>\n",
       "    <tr>\n",
       "      <th>4</th>\n",
       "      <td>Trusting Social</td>\n",
       "      <td>10 Back-end Engineers (Java/Python/Ruby)</td>\n",
       "      <td>$2000 - $4000</td>\n",
       "      <td>1489</td>\n",
       "      <td>https://itviec.com/it-jobs/10-back-end-enginee...</td>\n",
       "    </tr>\n",
       "  </tbody>\n",
       "</table>\n",
       "</div>"
      ],
      "text/plain": [
       "              Company                                     Title  \\\n",
       "0           WEBSOSANH  Machine Learning Engineer (Java, Python)   \n",
       "1  Septeni Technology      DevOps Engineer wanted - up to 1000$   \n",
       "2            Bee Tech   3 Back-end Dev (Python, Golang, NodeJS)   \n",
       "3     Trusting Social             Data Scientists (Python, SQL)   \n",
       "4     Trusting Social  10 Back-end Engineers (Java/Python/Ruby)   \n",
       "\n",
       "             Salary    ID                                                URL  \n",
       "0     Up to 30m vnd  1493  https://itviec.com/it-jobs/machine-learning-en...  \n",
       "1   800 - 1,000 USD  1492  https://itviec.com/it-jobs/devops-engineer-wan...  \n",
       "2       Up to $1200  1490  https://itviec.com/it-jobs/3-back-end-dev-pyth...  \n",
       "3  $3.000 - $10.000  1488  https://itviec.com/it-jobs/data-scientists-pyt...  \n",
       "4     $2000 - $4000  1489  https://itviec.com/it-jobs/10-back-end-enginee...  "
      ]
     },
     "execution_count": 67,
     "metadata": {},
     "output_type": "execute_result"
    }
   ],
   "source": [
    "df = pd.read_csv('pymi_jobs.csv')\n",
    "df.head()"
   ]
  }
 ],
 "metadata": {
  "kernelspec": {
   "display_name": "Python 3",
   "language": "python",
   "name": "python3"
  },
  "language_info": {
   "codemirror_mode": {
    "name": "ipython",
    "version": 3
   },
   "file_extension": ".py",
   "mimetype": "text/x-python",
   "name": "python",
   "nbconvert_exporter": "python",
   "pygments_lexer": "ipython3",
   "version": "3.5.2"
  }
 },
 "nbformat": 4,
 "nbformat_minor": 2
}
