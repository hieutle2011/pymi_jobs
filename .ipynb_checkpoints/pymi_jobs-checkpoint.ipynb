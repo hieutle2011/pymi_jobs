{
 "cells": [
  {
   "cell_type": "code",
   "execution_count": 18,
   "metadata": {
    "collapsed": true
   },
   "outputs": [],
   "source": [
    "import requests\n",
    "import json\n",
    "import csv\n",
    "import pandas as pd"
   ]
  },
  {
   "cell_type": "code",
   "execution_count": 19,
   "metadata": {
    "collapsed": true
   },
   "outputs": [],
   "source": [
    "def jobs(url):\n",
    "    # Return list of Jobs\n",
    "    page = requests.get(url)\n",
    "    info = json.loads(page.text)\n",
    "    jobs = info['Jobs']\n",
    "    return jobs"
   ]
  },
  {
   "cell_type": "code",
   "execution_count": 20,
   "metadata": {
    "collapsed": true
   },
   "outputs": [],
   "source": [
    "json_url = 'http://jobs.pymi.vn/jobs?page=1&api=True'"
   ]
  },
  {
   "cell_type": "code",
   "execution_count": 21,
   "metadata": {},
   "outputs": [
    {
     "data": {
      "text/plain": [
       "{'Job': {'Address': '',\n",
       "  'Company': 'Septeni Technology',\n",
       "  'Contact': '',\n",
       "  'Id': '1492',\n",
       "  'Information': '',\n",
       "  'Informations': [''],\n",
       "  'Logo': '',\n",
       "  'Name': 'DevOps Engineer wanted - up to 1000$',\n",
       "  'Original': False,\n",
       "  'Province': 'Ha Noi',\n",
       "  'Size': '',\n",
       "  'Slug': 'DevOps-Engineer-wanted-up-to-1000',\n",
       "  'Specialize': '',\n",
       "  'Specializes': [''],\n",
       "  'Url': 'https://itviec.com/it-jobs/devops-engineer-wanted-up-to-1000-septeni-technology-0029',\n",
       "  'Vip': False,\n",
       "  'Wage': '800 - 1,000 USD',\n",
       "  'Work': '',\n",
       "  'Works': [''],\n",
       "  'create_date': '2017-12-29T00:00:00Z',\n",
       "  'expiry_date': '',\n",
       "  'post_date': '2017-12-29'},\n",
       " 'New': False,\n",
       " 'URI': 'DevOps-Engineer-wanted-up-to-1000'}"
      ]
     },
     "execution_count": 21,
     "metadata": {},
     "output_type": "execute_result"
    }
   ],
   "source": [
    "jobs(json_url)[1]"
   ]
  },
  {
   "cell_type": "code",
   "execution_count": 22,
   "metadata": {},
   "outputs": [
    {
     "data": {
      "text/plain": [
       "200"
      ]
     },
     "execution_count": 22,
     "metadata": {},
     "output_type": "execute_result"
    }
   ],
   "source": [
    "page = requests.get(json_url)\n",
    "page.status_code"
   ]
  },
  {
   "cell_type": "code",
   "execution_count": 23,
   "metadata": {},
   "outputs": [
    {
     "name": "stdout",
     "output_type": "stream",
     "text": [
      "5 <class 'dict'>\n"
     ]
    }
   ],
   "source": [
    "info = json.loads(page.text)\n",
    "print(len(info), type(info))"
   ]
  },
  {
   "cell_type": "code",
   "execution_count": 24,
   "metadata": {
    "scrolled": true
   },
   "outputs": [
    {
     "name": "stdout",
     "output_type": "stream",
     "text": [
      "Jobs\n",
      "NoPages\n",
      "Pages\n",
      "TotalJob\n",
      "CurrentPage\n"
     ]
    }
   ],
   "source": [
    "for i in info:\n",
    "    print(i)"
   ]
  },
  {
   "cell_type": "code",
   "execution_count": 25,
   "metadata": {},
   "outputs": [
    {
     "name": "stdout",
     "output_type": "stream",
     "text": [
      "92\n"
     ]
    }
   ],
   "source": [
    "pages = info['Pages']\n",
    "print(len(pages))"
   ]
  },
  {
   "cell_type": "code",
   "execution_count": 26,
   "metadata": {},
   "outputs": [],
   "source": [
    "with open('pymi_jobs.csv', 'w') as file:\n",
    "    f = csv.writer(file)\n",
    "    f.writerow(['Company', 'Title', 'Salary', 'ID', 'URL'])\n",
    "    for i in pages: # 1 to 92 pages\n",
    "        url = 'http://jobs.pymi.vn/jobs?page=' + str(i) + '&api=True'\n",
    "        for job in jobs(url):\n",
    "            company = job['Job']['Company']\n",
    "            title = job['Job']['Name']\n",
    "            salary = job['Job']['Wage']\n",
    "            id_ = job['Job']['Id']\n",
    "            url = job['Job']['Url']\n",
    "            f.writerow([company, title, salary, id_, url])"
   ]
  },
  {
   "cell_type": "code",
   "execution_count": 27,
   "metadata": {
    "scrolled": true
   },
   "outputs": [
    {
     "data": {
      "text/html": [
       "<div>\n",
       "<style>\n",
       "    .dataframe thead tr:only-child th {\n",
       "        text-align: right;\n",
       "    }\n",
       "\n",
       "    .dataframe thead th {\n",
       "        text-align: left;\n",
       "    }\n",
       "\n",
       "    .dataframe tbody tr th {\n",
       "        vertical-align: top;\n",
       "    }\n",
       "</style>\n",
       "<table border=\"1\" class=\"dataframe\">\n",
       "  <thead>\n",
       "    <tr style=\"text-align: right;\">\n",
       "      <th></th>\n",
       "      <th>Company</th>\n",
       "      <th>Title</th>\n",
       "      <th>Salary</th>\n",
       "      <th>ID</th>\n",
       "      <th>URL</th>\n",
       "    </tr>\n",
       "  </thead>\n",
       "  <tbody>\n",
       "    <tr>\n",
       "      <th>0</th>\n",
       "      <td>WEBSOSANH</td>\n",
       "      <td>Machine Learning Engineer (Java, Python)</td>\n",
       "      <td>Up to 30m vnd</td>\n",
       "      <td>1493</td>\n",
       "      <td>https://itviec.com/it-jobs/machine-learning-en...</td>\n",
       "    </tr>\n",
       "    <tr>\n",
       "      <th>1</th>\n",
       "      <td>Septeni Technology</td>\n",
       "      <td>DevOps Engineer wanted - up to 1000$</td>\n",
       "      <td>800 - 1,000 USD</td>\n",
       "      <td>1492</td>\n",
       "      <td>https://itviec.com/it-jobs/devops-engineer-wan...</td>\n",
       "    </tr>\n",
       "    <tr>\n",
       "      <th>2</th>\n",
       "      <td>Bee Tech</td>\n",
       "      <td>3 Back-end Dev (Python, Golang, NodeJS)</td>\n",
       "      <td>Up to $1200</td>\n",
       "      <td>1490</td>\n",
       "      <td>https://itviec.com/it-jobs/3-back-end-dev-pyth...</td>\n",
       "    </tr>\n",
       "    <tr>\n",
       "      <th>3</th>\n",
       "      <td>Trusting Social</td>\n",
       "      <td>Data Scientists (Python, SQL)</td>\n",
       "      <td>$3.000 - $10.000</td>\n",
       "      <td>1488</td>\n",
       "      <td>https://itviec.com/it-jobs/data-scientists-pyt...</td>\n",
       "    </tr>\n",
       "    <tr>\n",
       "      <th>4</th>\n",
       "      <td>Trusting Social</td>\n",
       "      <td>10 Back-end Engineers (Java/Python/Ruby)</td>\n",
       "      <td>$2000 - $4000</td>\n",
       "      <td>1489</td>\n",
       "      <td>https://itviec.com/it-jobs/10-back-end-enginee...</td>\n",
       "    </tr>\n",
       "  </tbody>\n",
       "</table>\n",
       "</div>"
      ],
      "text/plain": [
       "              Company                                     Title  \\\n",
       "0           WEBSOSANH  Machine Learning Engineer (Java, Python)   \n",
       "1  Septeni Technology      DevOps Engineer wanted - up to 1000$   \n",
       "2            Bee Tech   3 Back-end Dev (Python, Golang, NodeJS)   \n",
       "3     Trusting Social             Data Scientists (Python, SQL)   \n",
       "4     Trusting Social  10 Back-end Engineers (Java/Python/Ruby)   \n",
       "\n",
       "             Salary    ID                                                URL  \n",
       "0     Up to 30m vnd  1493  https://itviec.com/it-jobs/machine-learning-en...  \n",
       "1   800 - 1,000 USD  1492  https://itviec.com/it-jobs/devops-engineer-wan...  \n",
       "2       Up to $1200  1490  https://itviec.com/it-jobs/3-back-end-dev-pyth...  \n",
       "3  $3.000 - $10.000  1488  https://itviec.com/it-jobs/data-scientists-pyt...  \n",
       "4     $2000 - $4000  1489  https://itviec.com/it-jobs/10-back-end-enginee...  "
      ]
     },
     "execution_count": 27,
     "metadata": {},
     "output_type": "execute_result"
    }
   ],
   "source": [
    "df = pd.read_csv('pymi_jobs.csv')\n",
    "df.head()"
   ]
  },
  {
   "cell_type": "code",
   "execution_count": 28,
   "metadata": {},
   "outputs": [
    {
     "data": {
      "text/html": [
       "<div>\n",
       "<style>\n",
       "    .dataframe thead tr:only-child th {\n",
       "        text-align: right;\n",
       "    }\n",
       "\n",
       "    .dataframe thead th {\n",
       "        text-align: left;\n",
       "    }\n",
       "\n",
       "    .dataframe tbody tr th {\n",
       "        vertical-align: top;\n",
       "    }\n",
       "</style>\n",
       "<table border=\"1\" class=\"dataframe\">\n",
       "  <thead>\n",
       "    <tr style=\"text-align: right;\">\n",
       "      <th></th>\n",
       "      <th>Company</th>\n",
       "      <th>Title</th>\n",
       "      <th>Salary</th>\n",
       "      <th>ID</th>\n",
       "      <th>URL</th>\n",
       "    </tr>\n",
       "  </thead>\n",
       "  <tbody>\n",
       "    <tr>\n",
       "      <th>1372</th>\n",
       "      <td>Vinashore Company</td>\n",
       "      <td>Techniciens Support Clients (hotline Et Superv...</td>\n",
       "      <td>$800 - $1500</td>\n",
       "      <td>78</td>\n",
       "      <td>http://www.vietnamworks.com/techniciens-suppor...</td>\n",
       "    </tr>\n",
       "    <tr>\n",
       "      <th>1373</th>\n",
       "      <td>Sofiamedix Software Co.,ltd</td>\n",
       "      <td>Python Developer</td>\n",
       "      <td>$600 - $800</td>\n",
       "      <td>77</td>\n",
       "      <td>http://www.vietnamworks.com/python-developer-3...</td>\n",
       "    </tr>\n",
       "    <tr>\n",
       "      <th>1374</th>\n",
       "      <td>LG Electronics Vietnam (hanoi R&amp;D Center)</td>\n",
       "      <td>Validation Test Manager</td>\n",
       "      <td>Negotiable</td>\n",
       "      <td>76</td>\n",
       "      <td>http://www.vietnamworks.com/validation-test-ma...</td>\n",
       "    </tr>\n",
       "    <tr>\n",
       "      <th>1375</th>\n",
       "      <td>Textn</td>\n",
       "      <td>Javascript / Java Or Python Senior Engineers</td>\n",
       "      <td>$1000 - $2500</td>\n",
       "      <td>75</td>\n",
       "      <td>http://www.vietnamworks.com/javascript-java-or...</td>\n",
       "    </tr>\n",
       "    <tr>\n",
       "      <th>1376</th>\n",
       "      <td>First Alliances Co., Ltd</td>\n",
       "      <td>Embedded Engineer - Bsp Developer</td>\n",
       "      <td>$1500 - $2000</td>\n",
       "      <td>74</td>\n",
       "      <td>http://www.vietnamworks.com/embedded-engineer-...</td>\n",
       "    </tr>\n",
       "  </tbody>\n",
       "</table>\n",
       "</div>"
      ],
      "text/plain": [
       "                                        Company  \\\n",
       "1372                          Vinashore Company   \n",
       "1373                Sofiamedix Software Co.,ltd   \n",
       "1374  LG Electronics Vietnam (hanoi R&D Center)   \n",
       "1375                                      Textn   \n",
       "1376                   First Alliances Co., Ltd   \n",
       "\n",
       "                                                  Title         Salary  ID  \\\n",
       "1372  Techniciens Support Clients (hotline Et Superv...   $800 - $1500  78   \n",
       "1373                                   Python Developer    $600 - $800  77   \n",
       "1374                            Validation Test Manager     Negotiable  76   \n",
       "1375       Javascript / Java Or Python Senior Engineers  $1000 - $2500  75   \n",
       "1376                  Embedded Engineer - Bsp Developer  $1500 - $2000  74   \n",
       "\n",
       "                                                    URL  \n",
       "1372  http://www.vietnamworks.com/techniciens-suppor...  \n",
       "1373  http://www.vietnamworks.com/python-developer-3...  \n",
       "1374  http://www.vietnamworks.com/validation-test-ma...  \n",
       "1375  http://www.vietnamworks.com/javascript-java-or...  \n",
       "1376  http://www.vietnamworks.com/embedded-engineer-...  "
      ]
     },
     "execution_count": 28,
     "metadata": {},
     "output_type": "execute_result"
    }
   ],
   "source": [
    "df.tail()"
   ]
  }
 ],
 "metadata": {
  "kernelspec": {
   "display_name": "Python 3",
   "language": "python",
   "name": "python3"
  },
  "language_info": {
   "codemirror_mode": {
    "name": "ipython",
    "version": 3
   },
   "file_extension": ".py",
   "mimetype": "text/x-python",
   "name": "python",
   "nbconvert_exporter": "python",
   "pygments_lexer": "ipython3",
   "version": "3.5.2"
  }
 },
 "nbformat": 4,
 "nbformat_minor": 2
}
